{
  "nbformat": 4,
  "nbformat_minor": 0,
  "metadata": {
    "colab": {
      "provenance": [],
      "gpuType": "T4"
    },
    "kernelspec": {
      "name": "python3",
      "display_name": "Python 3"
    },
    "language_info": {
      "name": "python"
    },
    "accelerator": "GPU"
  },
  "cells": [
    {
      "cell_type": "code",
      "source": [
        "!pip install beautifulsoup4"
      ],
      "metadata": {
        "colab": {
          "base_uri": "https://localhost:8080/"
        },
        "id": "4_H2QdxDPu46",
        "outputId": "52819e18-8d52-402d-d7fb-375dc8b56425"
      },
      "execution_count": 1,
      "outputs": [
        {
          "output_type": "stream",
          "name": "stdout",
          "text": [
            "Requirement already satisfied: beautifulsoup4 in /usr/local/lib/python3.10/dist-packages (4.12.3)\n",
            "Requirement already satisfied: soupsieve>1.2 in /usr/local/lib/python3.10/dist-packages (from beautifulsoup4) (2.5)\n"
          ]
        }
      ]
    },
    {
      "cell_type": "code",
      "source": [
        "!pip install chromadb langchain openai tiktoken jq"
      ],
      "metadata": {
        "id": "7kJqX1f8Wdg4",
        "colab": {
          "base_uri": "https://localhost:8080/"
        },
        "outputId": "ad22246b-ee22-4a5e-f292-fc88b72d6963"
      },
      "execution_count": 2,
      "outputs": [
        {
          "output_type": "stream",
          "name": "stdout",
          "text": [
            "Collecting chromadb\n",
            "  Downloading chromadb-0.4.22-py3-none-any.whl (509 kB)\n",
            "\u001b[2K     \u001b[90m━━━━━━━━━━━━━━━━━━━━━━━━━━━━━━━━━━━━━━━━\u001b[0m \u001b[32m509.0/509.0 kB\u001b[0m \u001b[31m4.9 MB/s\u001b[0m eta \u001b[36m0:00:00\u001b[0m\n",
            "\u001b[?25hCollecting langchain\n",
            "  Downloading langchain-0.1.6-py3-none-any.whl (811 kB)\n",
            "\u001b[2K     \u001b[90m━━━━━━━━━━━━━━━━━━━━━━━━━━━━━━━━━━━━━━━━\u001b[0m \u001b[32m811.8/811.8 kB\u001b[0m \u001b[31m8.4 MB/s\u001b[0m eta \u001b[36m0:00:00\u001b[0m\n",
            "\u001b[?25hCollecting openai\n",
            "  Downloading openai-1.12.0-py3-none-any.whl (226 kB)\n",
            "\u001b[2K     \u001b[90m━━━━━━━━━━━━━━━━━━━━━━━━━━━━━━━━━━━━━━━━\u001b[0m \u001b[32m226.7/226.7 kB\u001b[0m \u001b[31m8.9 MB/s\u001b[0m eta \u001b[36m0:00:00\u001b[0m\n",
            "\u001b[?25hCollecting tiktoken\n",
            "  Downloading tiktoken-0.6.0-cp310-cp310-manylinux_2_17_x86_64.manylinux2014_x86_64.whl (1.8 MB)\n",
            "\u001b[2K     \u001b[90m━━━━━━━━━━━━━━━━━━━━━━━━━━━━━━━━━━━━━━━━\u001b[0m \u001b[32m1.8/1.8 MB\u001b[0m \u001b[31m13.1 MB/s\u001b[0m eta \u001b[36m0:00:00\u001b[0m\n",
            "\u001b[?25hCollecting jq\n",
            "  Downloading jq-1.6.0-cp310-cp310-manylinux_2_17_x86_64.manylinux2014_x86_64.whl (656 kB)\n",
            "\u001b[2K     \u001b[90m━━━━━━━━━━━━━━━━━━━━━━━━━━━━━━━━━━━━━━━━\u001b[0m \u001b[32m656.0/656.0 kB\u001b[0m \u001b[31m15.6 MB/s\u001b[0m eta \u001b[36m0:00:00\u001b[0m\n",
            "\u001b[?25hRequirement already satisfied: build>=1.0.3 in /usr/local/lib/python3.10/dist-packages (from chromadb) (1.0.3)\n",
            "Requirement already satisfied: requests>=2.28 in /usr/local/lib/python3.10/dist-packages (from chromadb) (2.31.0)\n",
            "Requirement already satisfied: pydantic>=1.9 in /usr/local/lib/python3.10/dist-packages (from chromadb) (2.6.1)\n",
            "Collecting chroma-hnswlib==0.7.3 (from chromadb)\n",
            "  Downloading chroma_hnswlib-0.7.3-cp310-cp310-manylinux_2_17_x86_64.manylinux2014_x86_64.whl (2.4 MB)\n",
            "\u001b[2K     \u001b[90m━━━━━━━━━━━━━━━━━━━━━━━━━━━━━━━━━━━━━━━━\u001b[0m \u001b[32m2.4/2.4 MB\u001b[0m \u001b[31m20.5 MB/s\u001b[0m eta \u001b[36m0:00:00\u001b[0m\n",
            "\u001b[?25hCollecting fastapi>=0.95.2 (from chromadb)\n",
            "  Downloading fastapi-0.109.2-py3-none-any.whl (92 kB)\n",
            "\u001b[2K     \u001b[90m━━━━━━━━━━━━━━━━━━━━━━━━━━━━━━━━━━━━━━━━\u001b[0m \u001b[32m92.1/92.1 kB\u001b[0m \u001b[31m12.4 MB/s\u001b[0m eta \u001b[36m0:00:00\u001b[0m\n",
            "\u001b[?25hCollecting uvicorn[standard]>=0.18.3 (from chromadb)\n",
            "  Downloading uvicorn-0.27.0.post1-py3-none-any.whl (60 kB)\n",
            "\u001b[2K     \u001b[90m━━━━━━━━━━━━━━━━━━━━━━━━━━━━━━━━━━━━━━━━\u001b[0m \u001b[32m60.7/60.7 kB\u001b[0m \u001b[31m7.3 MB/s\u001b[0m eta \u001b[36m0:00:00\u001b[0m\n",
            "\u001b[?25hRequirement already satisfied: numpy>=1.22.5 in /usr/local/lib/python3.10/dist-packages (from chromadb) (1.23.5)\n",
            "Collecting posthog>=2.4.0 (from chromadb)\n",
            "  Downloading posthog-3.4.0-py2.py3-none-any.whl (41 kB)\n",
            "\u001b[2K     \u001b[90m━━━━━━━━━━━━━━━━━━━━━━━━━━━━━━━━━━━━━━━━\u001b[0m \u001b[32m41.1/41.1 kB\u001b[0m \u001b[31m5.5 MB/s\u001b[0m eta \u001b[36m0:00:00\u001b[0m\n",
            "\u001b[?25hRequirement already satisfied: typing-extensions>=4.5.0 in /usr/local/lib/python3.10/dist-packages (from chromadb) (4.9.0)\n",
            "Collecting pulsar-client>=3.1.0 (from chromadb)\n",
            "  Downloading pulsar_client-3.4.0-cp310-cp310-manylinux_2_17_x86_64.manylinux2014_x86_64.whl (5.4 MB)\n",
            "\u001b[2K     \u001b[90m━━━━━━━━━━━━━━━━━━━━━━━━━━━━━━━━━━━━━━━━\u001b[0m \u001b[32m5.4/5.4 MB\u001b[0m \u001b[31m25.0 MB/s\u001b[0m eta \u001b[36m0:00:00\u001b[0m\n",
            "\u001b[?25hCollecting onnxruntime>=1.14.1 (from chromadb)\n",
            "  Downloading onnxruntime-1.17.0-cp310-cp310-manylinux_2_27_x86_64.manylinux_2_28_x86_64.whl (6.8 MB)\n",
            "\u001b[2K     \u001b[90m━━━━━━━━━━━━━━━━━━━━━━━━━━━━━━━━━━━━━━━━\u001b[0m \u001b[32m6.8/6.8 MB\u001b[0m \u001b[31m32.9 MB/s\u001b[0m eta \u001b[36m0:00:00\u001b[0m\n",
            "\u001b[?25hCollecting opentelemetry-api>=1.2.0 (from chromadb)\n",
            "  Downloading opentelemetry_api-1.22.0-py3-none-any.whl (57 kB)\n",
            "\u001b[2K     \u001b[90m━━━━━━━━━━━━━━━━━━━━━━━━━━━━━━━━━━━━━━━━\u001b[0m \u001b[32m57.9/57.9 kB\u001b[0m \u001b[31m7.2 MB/s\u001b[0m eta \u001b[36m0:00:00\u001b[0m\n",
            "\u001b[?25hCollecting opentelemetry-exporter-otlp-proto-grpc>=1.2.0 (from chromadb)\n",
            "  Downloading opentelemetry_exporter_otlp_proto_grpc-1.22.0-py3-none-any.whl (18 kB)\n",
            "Collecting opentelemetry-instrumentation-fastapi>=0.41b0 (from chromadb)\n",
            "  Downloading opentelemetry_instrumentation_fastapi-0.43b0-py3-none-any.whl (11 kB)\n",
            "Collecting opentelemetry-sdk>=1.2.0 (from chromadb)\n",
            "  Downloading opentelemetry_sdk-1.22.0-py3-none-any.whl (105 kB)\n",
            "\u001b[2K     \u001b[90m━━━━━━━━━━━━━━━━━━━━━━━━━━━━━━━━━━━━━━━━\u001b[0m \u001b[32m105.6/105.6 kB\u001b[0m \u001b[31m5.6 MB/s\u001b[0m eta \u001b[36m0:00:00\u001b[0m\n",
            "\u001b[?25hRequirement already satisfied: tokenizers>=0.13.2 in /usr/local/lib/python3.10/dist-packages (from chromadb) (0.15.1)\n",
            "Collecting pypika>=0.48.9 (from chromadb)\n",
            "  Downloading PyPika-0.48.9.tar.gz (67 kB)\n",
            "\u001b[2K     \u001b[90m━━━━━━━━━━━━━━━━━━━━━━━━━━━━━━━━━━━━━━━━\u001b[0m \u001b[32m67.3/67.3 kB\u001b[0m \u001b[31m8.2 MB/s\u001b[0m eta \u001b[36m0:00:00\u001b[0m\n",
            "\u001b[?25h  Installing build dependencies ... \u001b[?25l\u001b[?25hdone\n",
            "  Getting requirements to build wheel ... \u001b[?25l\u001b[?25hdone\n",
            "  Preparing metadata (pyproject.toml) ... \u001b[?25l\u001b[?25hdone\n",
            "Requirement already satisfied: tqdm>=4.65.0 in /usr/local/lib/python3.10/dist-packages (from chromadb) (4.66.1)\n",
            "Collecting overrides>=7.3.1 (from chromadb)\n",
            "  Downloading overrides-7.7.0-py3-none-any.whl (17 kB)\n",
            "Requirement already satisfied: importlib-resources in /usr/local/lib/python3.10/dist-packages (from chromadb) (6.1.1)\n",
            "Requirement already satisfied: grpcio>=1.58.0 in /usr/local/lib/python3.10/dist-packages (from chromadb) (1.60.1)\n",
            "Collecting bcrypt>=4.0.1 (from chromadb)\n",
            "  Downloading bcrypt-4.1.2-cp39-abi3-manylinux_2_28_x86_64.whl (698 kB)\n",
            "\u001b[2K     \u001b[90m━━━━━━━━━━━━━━━━━━━━━━━━━━━━━━━━━━━━━━━━\u001b[0m \u001b[32m698.9/698.9 kB\u001b[0m \u001b[31m55.2 MB/s\u001b[0m eta \u001b[36m0:00:00\u001b[0m\n",
            "\u001b[?25hRequirement already satisfied: typer>=0.9.0 in /usr/local/lib/python3.10/dist-packages (from chromadb) (0.9.0)\n",
            "Collecting kubernetes>=28.1.0 (from chromadb)\n",
            "  Downloading kubernetes-29.0.0-py2.py3-none-any.whl (1.6 MB)\n",
            "\u001b[2K     \u001b[90m━━━━━━━━━━━━━━━━━━━━━━━━━━━━━━━━━━━━━━━━\u001b[0m \u001b[32m1.6/1.6 MB\u001b[0m \u001b[31m50.7 MB/s\u001b[0m eta \u001b[36m0:00:00\u001b[0m\n",
            "\u001b[?25hRequirement already satisfied: tenacity>=8.2.3 in /usr/local/lib/python3.10/dist-packages (from chromadb) (8.2.3)\n",
            "Requirement already satisfied: PyYAML>=6.0.0 in /usr/local/lib/python3.10/dist-packages (from chromadb) (6.0.1)\n",
            "Collecting mmh3>=4.0.1 (from chromadb)\n",
            "  Downloading mmh3-4.1.0-cp310-cp310-manylinux_2_5_x86_64.manylinux1_x86_64.manylinux_2_17_x86_64.manylinux2014_x86_64.whl (67 kB)\n",
            "\u001b[2K     \u001b[90m━━━━━━━━━━━━━━━━━━━━━━━━━━━━━━━━━━━━━━━━\u001b[0m \u001b[32m67.6/67.6 kB\u001b[0m \u001b[31m10.1 MB/s\u001b[0m eta \u001b[36m0:00:00\u001b[0m\n",
            "\u001b[?25hRequirement already satisfied: SQLAlchemy<3,>=1.4 in /usr/local/lib/python3.10/dist-packages (from langchain) (2.0.25)\n",
            "Requirement already satisfied: aiohttp<4.0.0,>=3.8.3 in /usr/local/lib/python3.10/dist-packages (from langchain) (3.9.3)\n",
            "Requirement already satisfied: async-timeout<5.0.0,>=4.0.0 in /usr/local/lib/python3.10/dist-packages (from langchain) (4.0.3)\n",
            "Collecting dataclasses-json<0.7,>=0.5.7 (from langchain)\n",
            "  Downloading dataclasses_json-0.6.4-py3-none-any.whl (28 kB)\n",
            "Collecting jsonpatch<2.0,>=1.33 (from langchain)\n",
            "  Downloading jsonpatch-1.33-py2.py3-none-any.whl (12 kB)\n",
            "Collecting langchain-community<0.1,>=0.0.18 (from langchain)\n",
            "  Downloading langchain_community-0.0.19-py3-none-any.whl (1.6 MB)\n",
            "\u001b[2K     \u001b[90m━━━━━━━━━━━━━━━━━━━━━━━━━━━━━━━━━━━━━━━━\u001b[0m \u001b[32m1.6/1.6 MB\u001b[0m \u001b[31m53.1 MB/s\u001b[0m eta \u001b[36m0:00:00\u001b[0m\n",
            "\u001b[?25hCollecting langchain-core<0.2,>=0.1.22 (from langchain)\n",
            "  Downloading langchain_core-0.1.22-py3-none-any.whl (239 kB)\n",
            "\u001b[2K     \u001b[90m━━━━━━━━━━━━━━━━━━━━━━━━━━━━━━━━━━━━━━━━\u001b[0m \u001b[32m239.4/239.4 kB\u001b[0m \u001b[31m28.4 MB/s\u001b[0m eta \u001b[36m0:00:00\u001b[0m\n",
            "\u001b[?25hCollecting langsmith<0.1,>=0.0.83 (from langchain)\n",
            "  Downloading langsmith-0.0.87-py3-none-any.whl (55 kB)\n",
            "\u001b[2K     \u001b[90m━━━━━━━━━━━━━━━━━━━━━━━━━━━━━━━━━━━━━━━━\u001b[0m \u001b[32m55.4/55.4 kB\u001b[0m \u001b[31m7.5 MB/s\u001b[0m eta \u001b[36m0:00:00\u001b[0m\n",
            "\u001b[?25hRequirement already satisfied: anyio<5,>=3.5.0 in /usr/local/lib/python3.10/dist-packages (from openai) (3.7.1)\n",
            "Requirement already satisfied: distro<2,>=1.7.0 in /usr/lib/python3/dist-packages (from openai) (1.7.0)\n",
            "Collecting httpx<1,>=0.23.0 (from openai)\n",
            "  Downloading httpx-0.26.0-py3-none-any.whl (75 kB)\n",
            "\u001b[2K     \u001b[90m━━━━━━━━━━━━━━━━━━━━━━━━━━━━━━━━━━━━━━━━\u001b[0m \u001b[32m75.9/75.9 kB\u001b[0m \u001b[31m11.8 MB/s\u001b[0m eta \u001b[36m0:00:00\u001b[0m\n",
            "\u001b[?25hRequirement already satisfied: sniffio in /usr/local/lib/python3.10/dist-packages (from openai) (1.3.0)\n",
            "Requirement already satisfied: regex>=2022.1.18 in /usr/local/lib/python3.10/dist-packages (from tiktoken) (2023.12.25)\n",
            "Requirement already satisfied: aiosignal>=1.1.2 in /usr/local/lib/python3.10/dist-packages (from aiohttp<4.0.0,>=3.8.3->langchain) (1.3.1)\n",
            "Requirement already satisfied: attrs>=17.3.0 in /usr/local/lib/python3.10/dist-packages (from aiohttp<4.0.0,>=3.8.3->langchain) (23.2.0)\n",
            "Requirement already satisfied: frozenlist>=1.1.1 in /usr/local/lib/python3.10/dist-packages (from aiohttp<4.0.0,>=3.8.3->langchain) (1.4.1)\n",
            "Requirement already satisfied: multidict<7.0,>=4.5 in /usr/local/lib/python3.10/dist-packages (from aiohttp<4.0.0,>=3.8.3->langchain) (6.0.5)\n",
            "Requirement already satisfied: yarl<2.0,>=1.0 in /usr/local/lib/python3.10/dist-packages (from aiohttp<4.0.0,>=3.8.3->langchain) (1.9.4)\n",
            "Requirement already satisfied: idna>=2.8 in /usr/local/lib/python3.10/dist-packages (from anyio<5,>=3.5.0->openai) (3.6)\n",
            "Requirement already satisfied: exceptiongroup in /usr/local/lib/python3.10/dist-packages (from anyio<5,>=3.5.0->openai) (1.2.0)\n",
            "Requirement already satisfied: packaging>=19.0 in /usr/local/lib/python3.10/dist-packages (from build>=1.0.3->chromadb) (23.2)\n",
            "Requirement already satisfied: pyproject_hooks in /usr/local/lib/python3.10/dist-packages (from build>=1.0.3->chromadb) (1.0.0)\n",
            "Requirement already satisfied: tomli>=1.1.0 in /usr/local/lib/python3.10/dist-packages (from build>=1.0.3->chromadb) (2.0.1)\n",
            "Collecting marshmallow<4.0.0,>=3.18.0 (from dataclasses-json<0.7,>=0.5.7->langchain)\n",
            "  Downloading marshmallow-3.20.2-py3-none-any.whl (49 kB)\n",
            "\u001b[2K     \u001b[90m━━━━━━━━━━━━━━━━━━━━━━━━━━━━━━━━━━━━━━━━\u001b[0m \u001b[32m49.4/49.4 kB\u001b[0m \u001b[31m5.9 MB/s\u001b[0m eta \u001b[36m0:00:00\u001b[0m\n",
            "\u001b[?25hCollecting typing-inspect<1,>=0.4.0 (from dataclasses-json<0.7,>=0.5.7->langchain)\n",
            "  Downloading typing_inspect-0.9.0-py3-none-any.whl (8.8 kB)\n",
            "Collecting starlette<0.37.0,>=0.36.3 (from fastapi>=0.95.2->chromadb)\n",
            "  Downloading starlette-0.36.3-py3-none-any.whl (71 kB)\n",
            "\u001b[2K     \u001b[90m━━━━━━━━━━━━━━━━━━━━━━━━━━━━━━━━━━━━━━━━\u001b[0m \u001b[32m71.5/71.5 kB\u001b[0m \u001b[31m10.5 MB/s\u001b[0m eta \u001b[36m0:00:00\u001b[0m\n",
            "\u001b[?25hRequirement already satisfied: certifi in /usr/local/lib/python3.10/dist-packages (from httpx<1,>=0.23.0->openai) (2024.2.2)\n",
            "Collecting httpcore==1.* (from httpx<1,>=0.23.0->openai)\n",
            "  Downloading httpcore-1.0.2-py3-none-any.whl (76 kB)\n",
            "\u001b[2K     \u001b[90m━━━━━━━━━━━━━━━━━━━━━━━━━━━━━━━━━━━━━━━━\u001b[0m \u001b[32m76.9/76.9 kB\u001b[0m \u001b[31m10.9 MB/s\u001b[0m eta \u001b[36m0:00:00\u001b[0m\n",
            "\u001b[?25hCollecting h11<0.15,>=0.13 (from httpcore==1.*->httpx<1,>=0.23.0->openai)\n",
            "  Downloading h11-0.14.0-py3-none-any.whl (58 kB)\n",
            "\u001b[2K     \u001b[90m━━━━━━━━━━━━━━━━━━━━━━━━━━━━━━━━━━━━━━━━\u001b[0m \u001b[32m58.3/58.3 kB\u001b[0m \u001b[31m8.4 MB/s\u001b[0m eta \u001b[36m0:00:00\u001b[0m\n",
            "\u001b[?25hCollecting jsonpointer>=1.9 (from jsonpatch<2.0,>=1.33->langchain)\n",
            "  Downloading jsonpointer-2.4-py2.py3-none-any.whl (7.8 kB)\n",
            "Requirement already satisfied: six>=1.9.0 in /usr/local/lib/python3.10/dist-packages (from kubernetes>=28.1.0->chromadb) (1.16.0)\n",
            "Requirement already satisfied: python-dateutil>=2.5.3 in /usr/local/lib/python3.10/dist-packages (from kubernetes>=28.1.0->chromadb) (2.8.2)\n",
            "Requirement already satisfied: google-auth>=1.0.1 in /usr/local/lib/python3.10/dist-packages (from kubernetes>=28.1.0->chromadb) (2.17.3)\n",
            "Requirement already satisfied: websocket-client!=0.40.0,!=0.41.*,!=0.42.*,>=0.32.0 in /usr/local/lib/python3.10/dist-packages (from kubernetes>=28.1.0->chromadb) (1.7.0)\n",
            "Requirement already satisfied: requests-oauthlib in /usr/local/lib/python3.10/dist-packages (from kubernetes>=28.1.0->chromadb) (1.3.1)\n",
            "Requirement already satisfied: oauthlib>=3.2.2 in /usr/local/lib/python3.10/dist-packages (from kubernetes>=28.1.0->chromadb) (3.2.2)\n",
            "Requirement already satisfied: urllib3>=1.24.2 in /usr/local/lib/python3.10/dist-packages (from kubernetes>=28.1.0->chromadb) (2.0.7)\n",
            "Collecting coloredlogs (from onnxruntime>=1.14.1->chromadb)\n",
            "  Downloading coloredlogs-15.0.1-py2.py3-none-any.whl (46 kB)\n",
            "\u001b[2K     \u001b[90m━━━━━━━━━━━━━━━━━━━━━━━━━━━━━━━━━━━━━━━━\u001b[0m \u001b[32m46.0/46.0 kB\u001b[0m \u001b[31m6.3 MB/s\u001b[0m eta \u001b[36m0:00:00\u001b[0m\n",
            "\u001b[?25hRequirement already satisfied: flatbuffers in /usr/local/lib/python3.10/dist-packages (from onnxruntime>=1.14.1->chromadb) (23.5.26)\n",
            "Requirement already satisfied: protobuf in /usr/local/lib/python3.10/dist-packages (from onnxruntime>=1.14.1->chromadb) (3.20.3)\n",
            "Requirement already satisfied: sympy in /usr/local/lib/python3.10/dist-packages (from onnxruntime>=1.14.1->chromadb) (1.12)\n",
            "Collecting deprecated>=1.2.6 (from opentelemetry-api>=1.2.0->chromadb)\n",
            "  Downloading Deprecated-1.2.14-py2.py3-none-any.whl (9.6 kB)\n",
            "Collecting importlib-metadata<7.0,>=6.0 (from opentelemetry-api>=1.2.0->chromadb)\n",
            "  Downloading importlib_metadata-6.11.0-py3-none-any.whl (23 kB)\n",
            "Collecting backoff<3.0.0,>=1.10.0 (from opentelemetry-exporter-otlp-proto-grpc>=1.2.0->chromadb)\n",
            "  Downloading backoff-2.2.1-py3-none-any.whl (15 kB)\n",
            "Requirement already satisfied: googleapis-common-protos~=1.52 in /usr/local/lib/python3.10/dist-packages (from opentelemetry-exporter-otlp-proto-grpc>=1.2.0->chromadb) (1.62.0)\n",
            "Collecting opentelemetry-exporter-otlp-proto-common==1.22.0 (from opentelemetry-exporter-otlp-proto-grpc>=1.2.0->chromadb)\n",
            "  Downloading opentelemetry_exporter_otlp_proto_common-1.22.0-py3-none-any.whl (17 kB)\n",
            "Collecting opentelemetry-proto==1.22.0 (from opentelemetry-exporter-otlp-proto-grpc>=1.2.0->chromadb)\n",
            "  Downloading opentelemetry_proto-1.22.0-py3-none-any.whl (50 kB)\n",
            "\u001b[2K     \u001b[90m━━━━━━━━━━━━━━━━━━━━━━━━━━━━━━━━━━━━━━━━\u001b[0m \u001b[32m50.8/50.8 kB\u001b[0m \u001b[31m7.0 MB/s\u001b[0m eta \u001b[36m0:00:00\u001b[0m\n",
            "\u001b[?25hCollecting opentelemetry-instrumentation-asgi==0.43b0 (from opentelemetry-instrumentation-fastapi>=0.41b0->chromadb)\n",
            "  Downloading opentelemetry_instrumentation_asgi-0.43b0-py3-none-any.whl (14 kB)\n",
            "Collecting opentelemetry-instrumentation==0.43b0 (from opentelemetry-instrumentation-fastapi>=0.41b0->chromadb)\n",
            "  Downloading opentelemetry_instrumentation-0.43b0-py3-none-any.whl (28 kB)\n",
            "Collecting opentelemetry-semantic-conventions==0.43b0 (from opentelemetry-instrumentation-fastapi>=0.41b0->chromadb)\n",
            "  Downloading opentelemetry_semantic_conventions-0.43b0-py3-none-any.whl (36 kB)\n",
            "Collecting opentelemetry-util-http==0.43b0 (from opentelemetry-instrumentation-fastapi>=0.41b0->chromadb)\n",
            "  Downloading opentelemetry_util_http-0.43b0-py3-none-any.whl (6.9 kB)\n",
            "Requirement already satisfied: setuptools>=16.0 in /usr/local/lib/python3.10/dist-packages (from opentelemetry-instrumentation==0.43b0->opentelemetry-instrumentation-fastapi>=0.41b0->chromadb) (67.7.2)\n",
            "Requirement already satisfied: wrapt<2.0.0,>=1.0.0 in /usr/local/lib/python3.10/dist-packages (from opentelemetry-instrumentation==0.43b0->opentelemetry-instrumentation-fastapi>=0.41b0->chromadb) (1.14.1)\n",
            "Collecting asgiref~=3.0 (from opentelemetry-instrumentation-asgi==0.43b0->opentelemetry-instrumentation-fastapi>=0.41b0->chromadb)\n",
            "  Downloading asgiref-3.7.2-py3-none-any.whl (24 kB)\n",
            "Collecting monotonic>=1.5 (from posthog>=2.4.0->chromadb)\n",
            "  Downloading monotonic-1.6-py2.py3-none-any.whl (8.2 kB)\n",
            "Requirement already satisfied: annotated-types>=0.4.0 in /usr/local/lib/python3.10/dist-packages (from pydantic>=1.9->chromadb) (0.6.0)\n",
            "Requirement already satisfied: pydantic-core==2.16.2 in /usr/local/lib/python3.10/dist-packages (from pydantic>=1.9->chromadb) (2.16.2)\n",
            "Requirement already satisfied: charset-normalizer<4,>=2 in /usr/local/lib/python3.10/dist-packages (from requests>=2.28->chromadb) (3.3.2)\n",
            "Requirement already satisfied: greenlet!=0.4.17 in /usr/local/lib/python3.10/dist-packages (from SQLAlchemy<3,>=1.4->langchain) (3.0.3)\n",
            "Requirement already satisfied: huggingface_hub<1.0,>=0.16.4 in /usr/local/lib/python3.10/dist-packages (from tokenizers>=0.13.2->chromadb) (0.20.3)\n",
            "Requirement already satisfied: click<9.0.0,>=7.1.1 in /usr/local/lib/python3.10/dist-packages (from typer>=0.9.0->chromadb) (8.1.7)\n",
            "Collecting httptools>=0.5.0 (from uvicorn[standard]>=0.18.3->chromadb)\n",
            "  Downloading httptools-0.6.1-cp310-cp310-manylinux_2_5_x86_64.manylinux1_x86_64.manylinux_2_17_x86_64.manylinux2014_x86_64.whl (341 kB)\n",
            "\u001b[2K     \u001b[90m━━━━━━━━━━━━━━━━━━━━━━━━━━━━━━━━━━━━━━━━\u001b[0m \u001b[32m341.4/341.4 kB\u001b[0m \u001b[31m40.6 MB/s\u001b[0m eta \u001b[36m0:00:00\u001b[0m\n",
            "\u001b[?25hCollecting python-dotenv>=0.13 (from uvicorn[standard]>=0.18.3->chromadb)\n",
            "  Downloading python_dotenv-1.0.1-py3-none-any.whl (19 kB)\n",
            "Collecting uvloop!=0.15.0,!=0.15.1,>=0.14.0 (from uvicorn[standard]>=0.18.3->chromadb)\n",
            "  Downloading uvloop-0.19.0-cp310-cp310-manylinux_2_17_x86_64.manylinux2014_x86_64.whl (3.4 MB)\n",
            "\u001b[2K     \u001b[90m━━━━━━━━━━━━━━━━━━━━━━━━━━━━━━━━━━━━━━━━\u001b[0m \u001b[32m3.4/3.4 MB\u001b[0m \u001b[31m61.7 MB/s\u001b[0m eta \u001b[36m0:00:00\u001b[0m\n",
            "\u001b[?25hCollecting watchfiles>=0.13 (from uvicorn[standard]>=0.18.3->chromadb)\n",
            "  Downloading watchfiles-0.21.0-cp310-cp310-manylinux_2_17_x86_64.manylinux2014_x86_64.whl (1.3 MB)\n",
            "\u001b[2K     \u001b[90m━━━━━━━━━━━━━━━━━━━━━━━━━━━━━━━━━━━━━━━━\u001b[0m \u001b[32m1.3/1.3 MB\u001b[0m \u001b[31m71.8 MB/s\u001b[0m eta \u001b[36m0:00:00\u001b[0m\n",
            "\u001b[?25hCollecting websockets>=10.4 (from uvicorn[standard]>=0.18.3->chromadb)\n",
            "  Downloading websockets-12.0-cp310-cp310-manylinux_2_5_x86_64.manylinux1_x86_64.manylinux_2_17_x86_64.manylinux2014_x86_64.whl (130 kB)\n",
            "\u001b[2K     \u001b[90m━━━━━━━━━━━━━━━━━━━━━━━━━━━━━━━━━━━━━━━━\u001b[0m \u001b[32m130.2/130.2 kB\u001b[0m \u001b[31m17.1 MB/s\u001b[0m eta \u001b[36m0:00:00\u001b[0m\n",
            "\u001b[?25hRequirement already satisfied: cachetools<6.0,>=2.0.0 in /usr/local/lib/python3.10/dist-packages (from google-auth>=1.0.1->kubernetes>=28.1.0->chromadb) (5.3.2)\n",
            "Requirement already satisfied: pyasn1-modules>=0.2.1 in /usr/local/lib/python3.10/dist-packages (from google-auth>=1.0.1->kubernetes>=28.1.0->chromadb) (0.3.0)\n",
            "Requirement already satisfied: rsa<5,>=3.1.4 in /usr/local/lib/python3.10/dist-packages (from google-auth>=1.0.1->kubernetes>=28.1.0->chromadb) (4.9)\n",
            "Requirement already satisfied: filelock in /usr/local/lib/python3.10/dist-packages (from huggingface_hub<1.0,>=0.16.4->tokenizers>=0.13.2->chromadb) (3.13.1)\n",
            "Requirement already satisfied: fsspec>=2023.5.0 in /usr/local/lib/python3.10/dist-packages (from huggingface_hub<1.0,>=0.16.4->tokenizers>=0.13.2->chromadb) (2023.6.0)\n",
            "Requirement already satisfied: zipp>=0.5 in /usr/local/lib/python3.10/dist-packages (from importlib-metadata<7.0,>=6.0->opentelemetry-api>=1.2.0->chromadb) (3.17.0)\n",
            "Collecting mypy-extensions>=0.3.0 (from typing-inspect<1,>=0.4.0->dataclasses-json<0.7,>=0.5.7->langchain)\n",
            "  Downloading mypy_extensions-1.0.0-py3-none-any.whl (4.7 kB)\n",
            "Collecting humanfriendly>=9.1 (from coloredlogs->onnxruntime>=1.14.1->chromadb)\n",
            "  Downloading humanfriendly-10.0-py2.py3-none-any.whl (86 kB)\n",
            "\u001b[2K     \u001b[90m━━━━━━━━━━━━━━━━━━━━━━━━━━━━━━━━━━━━━━━━\u001b[0m \u001b[32m86.8/86.8 kB\u001b[0m \u001b[31m13.4 MB/s\u001b[0m eta \u001b[36m0:00:00\u001b[0m\n",
            "\u001b[?25hRequirement already satisfied: mpmath>=0.19 in /usr/local/lib/python3.10/dist-packages (from sympy->onnxruntime>=1.14.1->chromadb) (1.3.0)\n",
            "Requirement already satisfied: pyasn1<0.6.0,>=0.4.6 in /usr/local/lib/python3.10/dist-packages (from pyasn1-modules>=0.2.1->google-auth>=1.0.1->kubernetes>=28.1.0->chromadb) (0.5.1)\n",
            "Building wheels for collected packages: pypika\n",
            "  Building wheel for pypika (pyproject.toml) ... \u001b[?25l\u001b[?25hdone\n",
            "  Created wheel for pypika: filename=PyPika-0.48.9-py2.py3-none-any.whl size=53723 sha256=5bd6e56b1a29f2a95e25675688e16525a670bcdf343a2ccec2a2fda22d0aaae8\n",
            "  Stored in directory: /root/.cache/pip/wheels/e1/26/51/d0bffb3d2fd82256676d7ad3003faea3bd6dddc9577af665f4\n",
            "Successfully built pypika\n",
            "Installing collected packages: pypika, monotonic, mmh3, websockets, uvloop, python-dotenv, pulsar-client, overrides, opentelemetry-util-http, opentelemetry-semantic-conventions, opentelemetry-proto, mypy-extensions, marshmallow, jsonpointer, jq, importlib-metadata, humanfriendly, httptools, h11, deprecated, chroma-hnswlib, bcrypt, backoff, asgiref, watchfiles, uvicorn, typing-inspect, tiktoken, starlette, posthog, opentelemetry-exporter-otlp-proto-common, opentelemetry-api, jsonpatch, httpcore, coloredlogs, opentelemetry-sdk, opentelemetry-instrumentation, onnxruntime, langsmith, kubernetes, httpx, fastapi, dataclasses-json, opentelemetry-instrumentation-asgi, opentelemetry-exporter-otlp-proto-grpc, openai, langchain-core, opentelemetry-instrumentation-fastapi, langchain-community, langchain, chromadb\n",
            "  Attempting uninstall: importlib-metadata\n",
            "    Found existing installation: importlib-metadata 7.0.1\n",
            "    Uninstalling importlib-metadata-7.0.1:\n",
            "      Successfully uninstalled importlib-metadata-7.0.1\n",
            "\u001b[31mERROR: pip's dependency resolver does not currently take into account all the packages that are installed. This behaviour is the source of the following dependency conflicts.\n",
            "lida 0.0.10 requires kaleido, which is not installed.\n",
            "lida 0.0.10 requires python-multipart, which is not installed.\n",
            "llmx 0.0.15a0 requires cohere, which is not installed.\u001b[0m\u001b[31m\n",
            "\u001b[0mSuccessfully installed asgiref-3.7.2 backoff-2.2.1 bcrypt-4.1.2 chroma-hnswlib-0.7.3 chromadb-0.4.22 coloredlogs-15.0.1 dataclasses-json-0.6.4 deprecated-1.2.14 fastapi-0.109.2 h11-0.14.0 httpcore-1.0.2 httptools-0.6.1 httpx-0.26.0 humanfriendly-10.0 importlib-metadata-6.11.0 jq-1.6.0 jsonpatch-1.33 jsonpointer-2.4 kubernetes-29.0.0 langchain-0.1.6 langchain-community-0.0.19 langchain-core-0.1.22 langsmith-0.0.87 marshmallow-3.20.2 mmh3-4.1.0 monotonic-1.6 mypy-extensions-1.0.0 onnxruntime-1.17.0 openai-1.12.0 opentelemetry-api-1.22.0 opentelemetry-exporter-otlp-proto-common-1.22.0 opentelemetry-exporter-otlp-proto-grpc-1.22.0 opentelemetry-instrumentation-0.43b0 opentelemetry-instrumentation-asgi-0.43b0 opentelemetry-instrumentation-fastapi-0.43b0 opentelemetry-proto-1.22.0 opentelemetry-sdk-1.22.0 opentelemetry-semantic-conventions-0.43b0 opentelemetry-util-http-0.43b0 overrides-7.7.0 posthog-3.4.0 pulsar-client-3.4.0 pypika-0.48.9 python-dotenv-1.0.1 starlette-0.36.3 tiktoken-0.6.0 typing-inspect-0.9.0 uvicorn-0.27.0.post1 uvloop-0.19.0 watchfiles-0.21.0 websockets-12.0\n"
          ]
        }
      ]
    },
    {
      "cell_type": "code",
      "source": [
        "from langchain.chains  import RetrievalQA\n",
        "from langchain.document_loaders import TextLoader\n",
        "from langchain.embeddings.openai import OpenAIEmbeddings\n",
        "from langchain.llms import OpenAI\n",
        "from langchain.text_splitter import CharacterTextSplitter\n",
        "from langchain.vectorstores import Chroma\n",
        "from langchain.document_loaders import JSONLoader\n",
        "from langchain.embeddings import GPT4AllEmbeddings\n",
        "from langchain.prompts import PromptTemplate\n",
        "from langchain.llms import LlamaCpp, GPT4All\n",
        "\n",
        "\n",
        "\"\"\"\n",
        "Module Documentation:\n",
        "\n",
        "- RetrievalQA: Module for retrieval-based question answering tasks.\n",
        "- TextLoader: Module for loading text data from various sources.\n",
        "- JSONLoader: Module for loading JSON-formatted data from various sources.\n",
        "- OpenAIEmbeddings: Module for generating embeddings using the OpenAI model.\n",
        "- OpenAI: Module providing access to an LLM provided by OpenAI.\n",
        "- LlamaCpp: Module providing access to an LLM implemented in C++.\n",
        "- GPT4All: Module providing access to an LLM based on the GPT-4 architecture.\n",
        "- CharacterTextSplitter: Module for splitting text into smaller units such as characters.\n",
        "- Chroma: Module for storing and retrieving vector representations of text data.\n",
        "- GPT4AllEmbeddings: Module for generating embeddings using the GPT-4 model.\n",
        "- PromptTemplate: Module for creating templates or prompts for text generation tasks.\n",
        "\"\"\""
      ],
      "metadata": {
        "id": "rC0FjSd8ZVPA"
      },
      "execution_count": 3,
      "outputs": []
    },
    {
      "cell_type": "code",
      "execution_count": 4,
      "metadata": {
        "colab": {
          "base_uri": "https://localhost:8080/"
        },
        "id": "hkmwMtJtPm-o",
        "outputId": "321b969b-5e71-4ef3-ffd9-48619cc04a1d"
      },
      "outputs": [
        {
          "output_type": "stream",
          "name": "stdout",
          "text": [
            "Scraped data saved successfully.\n"
          ]
        }
      ],
      "source": [
        "\"\"\"\n",
        "Agent1 Scraping Module\n",
        "\n",
        "This module defines functions to scrape a webpage and store the parsed data in JSON format.\n",
        "\n",
        "Functions:\n",
        "- parse_html_to_json(html_content): Parses HTML content into a nested JSON format.\n",
        "- scrape_and_store(url): Scrapes the specified URL, parses the HTML content, and stores the parsed data in a JSON file.\n",
        "\n",
        "Example:\n",
        "    To scrape a webpage and store the parsed data:\n",
        "        url = \"https://www.example.com\"\n",
        "        scrape_and_store(url)\n",
        "\"\"\"\n",
        "\n",
        "import requests\n",
        "from bs4 import BeautifulSoup\n",
        "import json\n",
        "\n",
        "def parse_html_to_json(html_content):\n",
        "    soup = BeautifulSoup(html_content, 'html.parser')\n",
        "    # Initialize an empty dictionary to store the parsed data\n",
        "    parsed_data = {}\n",
        "\n",
        "    # Function to recursively traverse the HTML tree and convert it into a nested dictionary\n",
        "    def parse_element(element):\n",
        "        nonlocal parsed_data\n",
        "        # Create a dictionary to store the attributes and content of the current element\n",
        "        element_data = {\n",
        "            \"tag\": element.name,\n",
        "            \"text\": element.get_text(strip=True),\n",
        "            \"attributes\": dict(element.attrs),\n",
        "            \"children\": []\n",
        "        }\n",
        "        # Recursively parse child elements\n",
        "        for child in element.children:\n",
        "            if child.name is not None:\n",
        "                element_data[\"children\"].append(parse_element(child))\n",
        "        return element_data\n",
        "\n",
        "    # Start parsing from the root element (HTML)\n",
        "    parsed_data[\"root\"] = parse_element(soup.html)\n",
        "\n",
        "    return parsed_data\n",
        "\n",
        "def scrape_and_store(url):\n",
        "    # Fetch the HTML content of the webpage\n",
        "    response = requests.get(url)\n",
        "    if response.status_code == 200:\n",
        "        html_content = response.text\n",
        "        # Parse HTML to JSON\n",
        "        parsed_data = parse_html_to_json(html_content)\n",
        "        # Store the parsed data in a JSON file\n",
        "        with open('scraped_data.json', 'w') as f:\n",
        "            json.dump(parsed_data, f, indent=4)\n",
        "        print(\"Scraped data saved successfully.\")\n",
        "    else:\n",
        "        print(\"Failed to retrieve webpage.\")\n",
        "\n",
        "if __name__ == \"__main__\":\n",
        "    url = \"https://www.knovatekinc.com\"\n",
        "    scrape_and_store(url)\n"
      ]
    },
    {
      "cell_type": "code",
      "source": [
        "\"\"\"\n",
        "JSONLoader Class\n",
        "\n",
        "This class is used to load JSON data from a file or a string and extract text content based on a JSON query schema.\n",
        "\n",
        "Attributes:\n",
        "- file_path (str): The file path to the JSON file.\n",
        "- text_content (bool): A boolean flag indicating whether to extract text content from the JSON data.\n",
        "- jq_schema (str): The JSON query schema used to extract text content from the JSON data.\n",
        "\"\"\"\n",
        "\n",
        "\n",
        "loader = JSONLoader(\n",
        "    file_path = \"/content/scraped_data.json\",\n",
        "    text_content = False,\n",
        "    jq_schema ='.[].text'\n",
        ")"
      ],
      "metadata": {
        "id": "_YJmZCtSaq1V"
      },
      "execution_count": 5,
      "outputs": []
    },
    {
      "cell_type": "code",
      "source": [
        "data =loader.load()"
      ],
      "metadata": {
        "id": "tv958U07bEdx"
      },
      "execution_count": 6,
      "outputs": []
    },
    {
      "cell_type": "code",
      "source": [
        "data"
      ],
      "metadata": {
        "colab": {
          "base_uri": "https://localhost:8080/"
        },
        "id": "slQKBq1cbJn0",
        "outputId": "bd837f58-ab2b-4da5-9689-e2fdf006b8c2"
      },
      "execution_count": 7,
      "outputs": [
        {
          "output_type": "execute_result",
          "data": {
            "text/plain": [
              "[Document(page_content='Your Digital Transformation Partner | Knovatek Inc. | Canadaphone_androiddate_rangecallHomeAbout UsServicesBrandingDigital MarketingMobile App DevelopmentWeb DevelopmentArtificial IntelligenceDevops ServicesBrandingDigital MarketingMobile App DevelopmentWeb developmentArtificial IntelligenceDevops ServicesTelemarketingVirtual EmployeeWebsite SupportOur WorkWebsite PortfolioWebsite PortfolioDigital Marketing PortfolioMobile App Case StudiesSocial CampaignsBlogCase StudiesContact UsXBook An AppointmentUnlockDigitalExperiencesWith UsUnlockDigital Experienceswith usHigh rated on trusted platformsAbout UsWe are yourDigital Transformation partnerWe help your business to grow by providing 360 degree digital solutions that include Web & Mobile App Development and Digital Marketing Solutions.Web Designing and DevelopmentMobile App DevelopmentDigital MarketingFull-Stack Digital Creative Consulting Agency Providing End-to-End Solutions for Modern Businesses – Website Design & Development, Digital Marketing, Content Creation, Branding, and MoreAbout UsOur ServicesOne stop shop for all yourDigital NeedsBrandingWe provide comprehensive branding services to help you create a powerful and lasting impression. Our team of experts will help you define and refine your brand, create a unique look and feel, and build a strong, recognizable presence in the market.Digital MarketingKnovatek Inc also helps businesses reach their target audience and achieve their marketing goals through various online channels. We provide services for SEO, SMM, SEM, Email marketing and Content marketing for best results.Mobile App DevelopmentKnovatek Inc is a leading mobile application development company that specializes in creating cutting-edge apps for Android, iOS, and Flutter platforms. Our team of developers and designers leverage their expertise in the latest technologies.Web DevelopmentKnovatek Inc is a web development company specializing in creating dynamic and engaging websites and web applications using a variety of programming languages and frameworks.Artificial IntelligenceAI services help automate processes and improve accuracy. Our services include machine learning, natural language processing, and computer vision. We can help you leverage AI to build smarter products and services.Devops ServicesWe provide DevOps services which provide automation, scalability, and reliability in the software development process. They enable businesses to move quickly and efficiently while maintaining quality.TelemarketingOur team of seasoned professionals specializes in lead generation, customer acquisition, and crafting persuasive sales pitches that captivate your target audience. From initial contact to deal closure, we bring expertise to every interaction.Virtual EmployeeWe empower businesses with limitless potential. Discover the transformative impact of our dedicated remote professionals as they drive your business forward, opening new doors to success.Website SupportThe success of your website relies on its smooth, secure, and reliable performance. We provide you with peace of mind, allowing you to focus on your core business while we take care of the technical aspects.Unlock digital success with our services. From strategy to implementation, we\\'ll help!Book An AppointmentOur Case StudiesNot merely a catalogue but the result of ourcommitmentandhard work.Medical AppDentalgram AppBusiness AppB&T-U AppDining AppnuBottle AppOur Clients FeedbackThey praise us for theexcellent results\"I’ve been working with Novatek for almost a year now to improve the SEOs of my business website and increase traffic. Amit and his team work really hard : we meet twice a month to share and discuss the detailed results of the bimonthly report. [...]\"I’ve been working with Novatek for almost a year now to improve the SEOs of my business website and increase traffic. Amit and his team work really hard : we meet twice a month to share and discuss the detailed results of the bimonthly report. They always provide information when needed, the team is always reachable. Amit has been very responsive to the tiniest detail and he goes the extra mile to make sure my buisness requirements are met. I’ve been seeing positive results ; my business is being found organically on the web which prooves that their way really works ! Recommended.Zuhair ToffahaFounder & TeacherZ French School\\ue934\\ue934\\ue934\\ue934\\ue9345/5\"I’ve worked with a number of development companies and none of them compare to Knovatek when it comes to professionalism, communication, creativity, efficiency and talent. I would strongly recommend them to any business looking to build a dynam [...]\"I’ve worked with a number of development companies and none of them compare to Knovatek when it comes to professionalism, communication, creativity, efficiency and talent. I would strongly recommend them to any business looking to build a dynamic website or application. They have exceeded all of my expectations and my company owes a great deal of its success to their hard work. We look forward to continue working with them on future projects. Feel free to contact me if you need more convincing!Ben HizerMarketing DirectorThe Indiana Citizen\\ue934\\ue934\\ue934\\ue934\\ue9345/5\"If you need any coding needs look no further. This company is one of a kind. The Head of this company is one of the most professional and responsive people I have ever had the pleasure of working with. If I could give them 10 stars I would. They are [...]\"If you need any coding needs look no further. This company is one of a kind. The Head of this company is one of the most professional and responsive people I have ever had the pleasure of working with. If I could give them 10 stars I would. They are elite.Saunders WhiteCEONuBottle\\ue934\\ue934\\ue934\\ue934\\ue9345/5\"Amit and his team are professional, efficient and very knowledgeable. He has created several websites for my projects and clients and they were all vibrantly designed, functionable with a short turn around time. If you are looking to get fantastic qu [...]\"Amit and his team are professional, efficient and very knowledgeable. He has created several websites for my projects and clients and they were all vibrantly designed, functionable with a short turn around time. If you are looking to get fantastic quality work with a dedicated team. I would recommend Knovatek.Lyn WilliamsCEOMahoe Health\\ue934\\ue934\\ue934\\ue934\\ue9345/5\"Top quality all around. I was pleased that the products we discussed were created on time and were quality. When making the software better, feedback given to the team was taken and implemented accordingly. The owners are very friendly, humorous and [...]\"Top quality all around. I was pleased that the products we discussed were created on time and were quality. When making the software better, feedback given to the team was taken and implemented accordingly. The owners are very friendly, humorous and ppsitive. That made our meetings parts in my day to look forward to. I totally recommend Knovatek.Hanif BrownConsultantCrypto Education\\ue934\\ue934\\ue934\\ue934\\ue9345/5\"I have been working with Knovatek for about a year now. They upgraded my website and consistently help with updates and changes. They are easy to communicate with, very prompt in completing projects, and are very competitive with pricing. In addition [...]\"I have been working with Knovatek for about a year now. They upgraded my website and consistently help with updates and changes. They are easy to communicate with, very prompt in completing projects, and are very competitive with pricing. In addition to website management, they are very quick with small projects with digital work and document building. I highly recommend using Knovatek!Jim PollakCEOProgress Medical LLC\\ue934\\ue934\\ue934\\ue934\\ue9345/5\"My company had Amit and his team build a web-based, client facing service. I am not very technical in the aspects and capabilities of web design and building, and didn’t know if the features I was requesting were even possible. But everything I req [...]\"My company had Amit and his team build a web-based, client facing service. I am not very technical in the aspects and capabilities of web design and building, and didn’t know if the features I was requesting were even possible. But everything I requested, they were able to convert to functionality. The level of engagement was very professional and timely follow ups were never an issue. The delivery times were reasonably met. The pricing was very fair. I plan to use the services again, and would have no issues recommending his services to others.Mike HowardConsultant Financial Risk ManagementPicuz Solutions, Inc\\ue934\\ue934\\ue934\\ue934\\ue9345/5\"Knovatek is one of the best in the business…they are very professional and easy to work it…they really help making our project come to life…i strongly recommend these guys…thanks again Amit [...]\"Knovatek is one of the best in the business…they are very professional and easy to work it…they really help making our project come to life…i strongly recommend these guys…thanks again AmitChevon JacksonCEOiClubz\\ue934\\ue934\\ue934\\ue934\\ue9345/5\"I worked with Amit at Knovatek Inc on the creation of my website for my business, Hidden Gem Home Staging & Design. He was (and continues to be!) an insightful and helpful resource that made the process stress-free, easy and enjoyable. He was ver [...]\"I worked with Amit at Knovatek Inc on the creation of my website for my business, Hidden Gem Home Staging & Design. He was (and continues to be!) an insightful and helpful resource that made the process stress-free, easy and enjoyable. He was very patient with my many, MANY questions and worked to ensure that my website had the look and capabilities that I needed. I would absolutely recommend him to anyone that is looking for a great experience building a website!Amy BlakeInterior StylistHidden Gem\\ue934\\ue934\\ue934\\ue934\\ue9345/5Meet Our ExpertsAmit Gargamitgarg87@gmail.comSchedule A CallPriyanka Gargpriyankagarg7193@gmail.comSchedule A CallGet a Free QuoteNameEmailPhoneMessageSendHigh rated on trusted platformsUnlock digital success with our services. From strategy to implementation, we’ll help. Free consultation available.Important LinksHomeServicesCase StudiesPaymentAboutCareerAbout UsContact UsFollow UsUnlock digital success with our services. From strategy to implementation, we’ll help. Free consultation available.Important LinksHomeServicesCase StudiesPaymentAboutCareerAbout UsContact UsFollow UsUSA OFFICE166 Geary St STE 1500 Suite #251,San Francisco, California 94108, United StatesCANADA OFFICE1275 Finch Ave W, Unit-811,North York, ON M3J2G5, CanadaCopyright 2023 © All rights Reserved. ||Terms and Conditions||Privacy PolicyWhatsApp usBook an AppointmentBook a 15-minute appointment to discuss your project in detail.We would be happy to hear from you, please fill in the form below.NameEmailPhoneChoose the services you are interested inChoose the services you are interested inBrandingDigital MarketingMobile App DevelopmentWeb DevelopmentArtificial IntelligenceDevops ServicesNot SureHow did you hear about us?How did you hear about us?Social MediaPeer ReferralGoogle/Search EngineThird-Party ReviewOtherMessageSubmit', metadata={'source': '/content/scraped_data.json', 'seq_num': 1})]"
            ]
          },
          "metadata": {},
          "execution_count": 7
        }
      ]
    },
    {
      "cell_type": "code",
      "source": [
        "\"\"\"\n",
        "CharacterTextSplitter Class\n",
        "\n",
        "This class is used to split text into chunks of specified size with optional overlap.\n",
        "\n",
        "Attributes:\n",
        "- chunk_size (int): The size of each chunk in characters.\n",
        "- chunk_overlap (int): The number of characters to overlap between consecutive chunks.\n",
        "\"\"\"\n",
        "\n",
        "text_splitter = CharacterTextSplitter(chunk_size = 1000 ,chunk_overlap=0)"
      ],
      "metadata": {
        "id": "WuaV6JILbN9U"
      },
      "execution_count": 8,
      "outputs": []
    },
    {
      "cell_type": "code",
      "source": [
        "api_key = \"your_api_key\""
      ],
      "metadata": {
        "id": "RsWdSOwHbmdJ"
      },
      "execution_count": 9,
      "outputs": []
    },
    {
      "cell_type": "code",
      "source": [
        "texts= text_splitter.split_documents(data)  # Split documents into chunks of text"
      ],
      "metadata": {
        "id": "5D7mKzFWboky"
      },
      "execution_count": 10,
      "outputs": []
    },
    {
      "cell_type": "code",
      "source": [
        "embeddings= OpenAIEmbeddings(openai_api_key=api_key)  # Initialize OpenAIEmbeddings for generating embeddings"
      ],
      "metadata": {
        "colab": {
          "base_uri": "https://localhost:8080/"
        },
        "id": "KZmJ9kWDbuMD",
        "outputId": "8f1ce05f-e58c-4d29-cf6b-165970a23211"
      },
      "execution_count": 11,
      "outputs": [
        {
          "output_type": "stream",
          "name": "stderr",
          "text": [
            "/usr/local/lib/python3.10/dist-packages/langchain_core/_api/deprecation.py:117: LangChainDeprecationWarning: The class `langchain_community.embeddings.openai.OpenAIEmbeddings` was deprecated in langchain-community 0.1.0 and will be removed in 0.2.0. An updated version of the class exists in the langchain-openai package and should be used instead. To use it run `pip install -U langchain-openai` and import as `from langchain_openai import OpenAIEmbeddings`.\n",
            "  warn_deprecated(\n"
          ]
        }
      ]
    },
    {
      "cell_type": "code",
      "source": [
        "llm = OpenAI(openai_api_key=api_key) # Initialize OpenAI LLM (Large Language Model)"
      ],
      "metadata": {
        "colab": {
          "base_uri": "https://localhost:8080/"
        },
        "id": "n81uLdwBcf95",
        "outputId": "39668734-5c5b-474b-f035-648d0070bfa6"
      },
      "execution_count": 12,
      "outputs": [
        {
          "output_type": "stream",
          "name": "stderr",
          "text": [
            "/usr/local/lib/python3.10/dist-packages/langchain_core/_api/deprecation.py:117: LangChainDeprecationWarning: The class `langchain_community.llms.openai.OpenAI` was deprecated in langchain-community 0.0.10 and will be removed in 0.2.0. An updated version of the class exists in the langchain-openai package and should be used instead. To use it run `pip install -U langchain-openai` and import as `from langchain_openai import OpenAI`.\n",
            "  warn_deprecated(\n"
          ]
        }
      ]
    },
    {
      "cell_type": "code",
      "source": [
        "\n",
        "\"\"\"\n",
        "Function Call Documentation:\n",
        "\n",
        "- Chroma.from_documents(texts, embeddings): Creates a document search index using the Chroma vector store.\n",
        "\n",
        "Arguments:\n",
        "- texts: A list of text chunks or documents to be indexed for search.\n",
        "- embeddings: An instance of OpenAIEmbeddings used to generate embeddings for the text chunks.\n",
        "\n",
        "Returns:\n",
        "- docsearch: A Chroma object representing the document search index.\n",
        "\"\"\"\n",
        "docsearch = Chroma.from_documents(texts,embeddings)"
      ],
      "metadata": {
        "id": "s0IFchTpcf6y"
      },
      "execution_count": 13,
      "outputs": []
    },
    {
      "cell_type": "code",
      "source": [
        "\"\"\"\n",
        "- RetrievalQA.from_chain_type(llm, chain_type, retriever): Creates a RetrievalQA instance for question answering.\n",
        "\n",
        "Arguments:\n",
        "- llm: An instance of OpenAI representing the large language model.\n",
        "- chain_type (str): The type of chain used in the retrieval model (e.g., \"stuff\").\n",
        "- retriever: An object representing the retriever used for document retrieval.\n",
        "\n",
        "Returns:\n",
        "- qa: A RetrievalQA object configured for question answering.\n",
        "\"\"\"\n",
        "\n",
        "qa = RetrievalQA.from_chain_type(\n",
        "    llm=llm, chain_type=\"stuff\", retriever=docsearch.as_retriever()\n",
        ")"
      ],
      "metadata": {
        "id": "Ct5iU08Ec8kn"
      },
      "execution_count": 14,
      "outputs": []
    },
    {
      "cell_type": "code",
      "source": [
        "qa.run(\"area of interest\")"
      ],
      "metadata": {
        "colab": {
          "base_uri": "https://localhost:8080/",
          "height": 125
        },
        "id": "rN4gA8EVnYhk",
        "outputId": "496447e8-1ae5-40b7-8be5-f28ad8e9f63e"
      },
      "execution_count": 15,
      "outputs": [
        {
          "output_type": "stream",
          "name": "stderr",
          "text": [
            "/usr/local/lib/python3.10/dist-packages/langchain_core/_api/deprecation.py:117: LangChainDeprecationWarning: The function `run` was deprecated in LangChain 0.1.0 and will be removed in 0.2.0. Use invoke instead.\n",
            "  warn_deprecated(\n",
            "WARNING:chromadb.segment.impl.vector.local_hnsw:Number of requested results 4 is greater than number of elements in index 1, updating n_results = 1\n"
          ]
        },
        {
          "output_type": "execute_result",
          "data": {
            "text/plain": [
              "'\\nDigital transformation, branding, digital marketing, mobile app development, web development, artificial intelligence, DevOps services, telemarketing, virtual employee services, website support, and case studies.'"
            ],
            "application/vnd.google.colaboratory.intrinsic+json": {
              "type": "string"
            }
          },
          "metadata": {},
          "execution_count": 15
        }
      ]
    },
    {
      "cell_type": "code",
      "source": [
        "qa.run(\"most frequently asked quesion\")"
      ],
      "metadata": {
        "colab": {
          "base_uri": "https://localhost:8080/",
          "height": 70
        },
        "id": "ipvi2ZKZpU9z",
        "outputId": "cbf07628-bb1a-4b98-9229-d9ba9d82362c"
      },
      "execution_count": 16,
      "outputs": [
        {
          "output_type": "stream",
          "name": "stderr",
          "text": [
            "WARNING:chromadb.segment.impl.vector.local_hnsw:Number of requested results 4 is greater than number of elements in index 1, updating n_results = 1\n"
          ]
        },
        {
          "output_type": "execute_result",
          "data": {
            "text/plain": [
              "' The most frequently asked question about Knovatek Inc. is likely \"What services do you offer?\" This information can be found on the company\\'s website or by reaching out to their team for more details.'"
            ],
            "application/vnd.google.colaboratory.intrinsic+json": {
              "type": "string"
            }
          },
          "metadata": {},
          "execution_count": 16
        }
      ]
    },
    {
      "cell_type": "code",
      "source": [
        "qa.run(\"how to enquire\")"
      ],
      "metadata": {
        "colab": {
          "base_uri": "https://localhost:8080/",
          "height": 70
        },
        "id": "mZv8w91SpXe1",
        "outputId": "c00af14e-2024-46de-87c2-79b81bab32cf"
      },
      "execution_count": 17,
      "outputs": [
        {
          "output_type": "stream",
          "name": "stderr",
          "text": [
            "WARNING:chromadb.segment.impl.vector.local_hnsw:Number of requested results 4 is greater than number of elements in index 1, updating n_results = 1\n"
          ]
        },
        {
          "output_type": "execute_result",
          "data": {
            "text/plain": [
              "' To inquire about the services offered by Knovatek Inc, you can visit their website and fill out the contact form or schedule a call with one of their experts. You can also send them a message through their social media platforms or reach out to them through a peer referral.'"
            ],
            "application/vnd.google.colaboratory.intrinsic+json": {
              "type": "string"
            }
          },
          "metadata": {},
          "execution_count": 17
        }
      ]
    },
    {
      "cell_type": "code",
      "source": [
        "qa.run(\"provide contact info\")"
      ],
      "metadata": {
        "colab": {
          "base_uri": "https://localhost:8080/",
          "height": 88
        },
        "id": "x-0g3AgRxQtE",
        "outputId": "52719080-49a8-4d98-c789-eb87a1b0a505"
      },
      "execution_count": 18,
      "outputs": [
        {
          "output_type": "stream",
          "name": "stderr",
          "text": [
            "WARNING:chromadb.segment.impl.vector.local_hnsw:Number of requested results 4 is greater than number of elements in index 1, updating n_results = 1\n"
          ]
        },
        {
          "output_type": "execute_result",
          "data": {
            "text/plain": [
              "'\\nUSA Office: 166 Geary St STE 1500 Suite #251, San Francisco, California 94108, United States \\nCanada Office: 1275 Finch Ave W, Unit-811, North York, ON M3J2G5, Canada \\nEmail: info@knovatek.com \\nPhone: +1 415-555-5555 (USA) or +1 416-555-5555 (Canada) \\nWebsite: www.knovatek.com \\nSocial Media: @knovatekinc on Facebook, Twitter, and Instagram \\nBook an Appointment: Fill out the form on the website for a 15-minute consultation.'"
            ],
            "application/vnd.google.colaboratory.intrinsic+json": {
              "type": "string"
            }
          },
          "metadata": {},
          "execution_count": 18
        }
      ]
    },
    {
      "cell_type": "markdown",
      "source": [
        "#Create the Agent"
      ],
      "metadata": {
        "id": "7RX-kxpX8Kmm"
      }
    },
    {
      "cell_type": "code",
      "source": [
        "from langchain_community.document_loaders import WebBaseLoader  # Importing WebBaseLoader for loading data from web sources\n",
        "from langchain.agents import AgentType, Tool, initialize_agent   # Importing modules for agent initialization"
      ],
      "metadata": {
        "id": "nQej5QfXxfdf"
      },
      "execution_count": 24,
      "outputs": []
    },
    {
      "cell_type": "code",
      "source": [
        "Webloader = WebBaseLoader(\"https://beta.ruff.rs/docs/faq/\")"
      ],
      "metadata": {
        "id": "xeWCdCyw3eh5"
      },
      "execution_count": 25,
      "outputs": []
    },
    {
      "cell_type": "code",
      "source": [
        "docs = Webloader.load()\n",
        "ruff_texts = text_splitter.split_documents(docs)\n",
        "ruff_db = Chroma.from_documents(ruff_texts, embeddings, collection_name=\"ruff\")\n",
        "ruff = RetrievalQA.from_chain_type(\n",
        "    llm=llm, chain_type=\"stuff\", retriever=ruff_db.as_retriever()\n",
        ")\n",
        "\n",
        "\"\"\"\n",
        "Explanation:\n",
        "\n",
        "1. WebBaseLoader: Initialize a WebBaseLoader object to load data from the specified URL.\n",
        "\n",
        "2. Load Documents: Load documents from the web source using the WebBaseLoader instance.\n",
        "\n",
        "3. Text Splitting: Split the loaded documents into chunks of text using the previously defined text_splitter.\n",
        "\n",
        "4. Create Chroma Index: Create a Chroma index from the text chunks using the embeddings obtained from OpenAI.\n",
        "\n",
        "5. Initialize RetrievalQA: Initialize a RetrievalQA instance for question answering using the Chroma index and the provided llm (large language model).\n",
        "\"\"\""
      ],
      "metadata": {
        "colab": {
          "base_uri": "https://localhost:8080/"
        },
        "id": "yy9NZP6g3pSY",
        "outputId": "9a524019-3852-419c-e704-83ac6b1e1dc5"
      },
      "execution_count": 26,
      "outputs": [
        {
          "output_type": "stream",
          "name": "stderr",
          "text": [
            "WARNING:langchain.text_splitter:Created a chunk of size 2134, which is longer than the specified 1000\n",
            "WARNING:langchain.text_splitter:Created a chunk of size 1915, which is longer than the specified 1000\n",
            "WARNING:langchain.text_splitter:Created a chunk of size 1259, which is longer than the specified 1000\n",
            "WARNING:langchain.text_splitter:Created a chunk of size 1543, which is longer than the specified 1000\n"
          ]
        }
      ]
    },
    {
      "cell_type": "code",
      "source": [
        "\n",
        "tools = [\n",
        "    Tool(\n",
        "        name=\"Querying System\",\n",
        "        func=qa.run,\n",
        "        description=\"useful for when you need to answer questions about the company. Input should be a fully formed question.\",\n",
        "    ),\n",
        "]"
      ],
      "metadata": {
        "id": "OlX-fH87394F"
      },
      "execution_count": 27,
      "outputs": []
    },
    {
      "cell_type": "code",
      "source": [
        "# Construct the agent. We will use the default agent type here.\n",
        "# See documentation for a full list of options.\n",
        "agent = initialize_agent(\n",
        "    tools, llm, agent=AgentType.ZERO_SHOT_REACT_DESCRIPTION, verbose=True\n",
        ")"
      ],
      "metadata": {
        "colab": {
          "base_uri": "https://localhost:8080/"
        },
        "id": "iTceH5RF4Gf4",
        "outputId": "71d1874e-9f68-44a4-bce5-e16aec25fed4"
      },
      "execution_count": 28,
      "outputs": [
        {
          "output_type": "stream",
          "name": "stderr",
          "text": [
            "/usr/local/lib/python3.10/dist-packages/langchain_core/_api/deprecation.py:117: LangChainDeprecationWarning: The function `initialize_agent` was deprecated in LangChain 0.1.0 and will be removed in 0.2.0. Use Use new agent constructor methods like create_react_agent, create_json_agent, create_structured_chat_agent, etc. instead.\n",
            "  warn_deprecated(\n"
          ]
        }
      ]
    },
    {
      "cell_type": "markdown",
      "source": [
        " ### Here I have asked few questions regarding knovatek Inc based on home page data ."
      ],
      "metadata": {
        "id": "fkXErTzE0gd3"
      }
    },
    {
      "cell_type": "code",
      "source": [
        "agent.run(\n",
        "    \"What did Zuhair Tuhafa say about knovoteknic in his feedback\"\n",
        ")"
      ],
      "metadata": {
        "colab": {
          "base_uri": "https://localhost:8080/",
          "height": 524
        },
        "id": "PEB7S8dN4L27",
        "outputId": "916ce29c-b285-4e4e-a355-131371d54d6b"
      },
      "execution_count": 29,
      "outputs": [
        {
          "output_type": "stream",
          "name": "stdout",
          "text": [
            "\n",
            "\n",
            "\u001b[1m> Entering new AgentExecutor chain...\u001b[0m\n"
          ]
        },
        {
          "output_type": "stream",
          "name": "stderr",
          "text": [
            "WARNING:chromadb.segment.impl.vector.local_hnsw:Number of requested results 4 is greater than number of elements in index 1, updating n_results = 1\n"
          ]
        },
        {
          "output_type": "stream",
          "name": "stdout",
          "text": [
            "\u001b[32;1m\u001b[1;3m Think about how the querying system works\n",
            "Action: Querying System\n",
            "Action Input: Zuhair Tuhafa feedback on knovoteknic\u001b[0m\n",
            "Observation: \u001b[36;1m\u001b[1;3m \"Recommended.\"\u001b[0m\n",
            "Thought:"
          ]
        },
        {
          "output_type": "stream",
          "name": "stderr",
          "text": [
            "WARNING:chromadb.segment.impl.vector.local_hnsw:Number of requested results 4 is greater than number of elements in index 1, updating n_results = 1\n"
          ]
        },
        {
          "output_type": "stream",
          "name": "stdout",
          "text": [
            "\u001b[32;1m\u001b[1;3m Take note of the feedback\n",
            "Action: Querying System\n",
            "Action Input: Recommended\u001b[0m\n",
            "Observation: \u001b[36;1m\u001b[1;3m The clients' feedback section on the Knovatek Inc website has several testimonials from satisfied clients, stating that they highly recommend the company's services.\u001b[0m\n",
            "Thought:"
          ]
        },
        {
          "output_type": "stream",
          "name": "stderr",
          "text": [
            "WARNING:chromadb.segment.impl.vector.local_hnsw:Number of requested results 4 is greater than number of elements in index 1, updating n_results = 1\n"
          ]
        },
        {
          "output_type": "stream",
          "name": "stdout",
          "text": [
            "\u001b[32;1m\u001b[1;3m Consider the overall reputation of Knovatek Inc\n",
            "Action: Querying System\n",
            "Action Input: Knovatek Inc reputation\u001b[0m\n",
            "Observation: \u001b[36;1m\u001b[1;3m Based on the pieces of context provided, it can be inferred that Knovatek Inc has a strong reputation in the digital transformation industry. They have high ratings on trusted platforms and their clients praise them for their excellent results and professionalism. They also have a team of experts who offer a wide range of digital services including branding, digital marketing, mobile app development, web development, and artificial intelligence. Additionally, they have worked with various clients from different industries and have a portfolio showcasing their successful projects.\u001b[0m\n",
            "Thought:"
          ]
        },
        {
          "output_type": "stream",
          "name": "stderr",
          "text": [
            "WARNING:chromadb.segment.impl.vector.local_hnsw:Number of requested results 4 is greater than number of elements in index 1, updating n_results = 1\n"
          ]
        },
        {
          "output_type": "stream",
          "name": "stdout",
          "text": [
            "\u001b[32;1m\u001b[1;3m Consider the impact of Zuhair Tuhafa's feedback on Knovatek Inc's reputation\n",
            "Action: Querying System\n",
            "Action Input: Impact of Zuhair Tuhafa feedback on Knovatek Inc reputation\u001b[0m\n",
            "Observation: \u001b[36;1m\u001b[1;3m Zuhair Tuhafa's positive feedback on the services provided by Knovatek Inc can have a positive impact on their reputation. It can help establish trust and credibility for the company, as well as attract potential clients who are looking for similar services. The positive review also reflects the company's commitment to delivering high-quality work and meeting their clients' needs, which can further enhance their reputation in the market.\u001b[0m\n",
            "Thought:\u001b[32;1m\u001b[1;3m I now know the final answer\n",
            "Final Answer: Zuhair Tuhafa's feedback on Knovatek Inc was positive and recommended the company's services, which reflects their strong reputation in the industry. \u001b[0m\n",
            "\n",
            "\u001b[1m> Finished chain.\u001b[0m\n"
          ]
        },
        {
          "output_type": "execute_result",
          "data": {
            "text/plain": [
              "\"Zuhair Tuhafa's feedback on Knovatek Inc was positive and recommended the company's services, which reflects their strong reputation in the industry.\""
            ],
            "application/vnd.google.colaboratory.intrinsic+json": {
              "type": "string"
            }
          },
          "metadata": {},
          "execution_count": 29
        }
      ]
    },
    {
      "cell_type": "code",
      "source": [
        "agent.run(\"who is amit garg?\")"
      ],
      "metadata": {
        "colab": {
          "base_uri": "https://localhost:8080/",
          "height": 331
        },
        "id": "wYxOnosvqMVt",
        "outputId": "6ddfa8dc-1958-4e54-91b5-f356fcb157af"
      },
      "execution_count": 30,
      "outputs": [
        {
          "output_type": "stream",
          "name": "stdout",
          "text": [
            "\n",
            "\n",
            "\u001b[1m> Entering new AgentExecutor chain...\u001b[0m\n"
          ]
        },
        {
          "output_type": "stream",
          "name": "stderr",
          "text": [
            "WARNING:chromadb.segment.impl.vector.local_hnsw:Number of requested results 4 is greater than number of elements in index 1, updating n_results = 1\n"
          ]
        },
        {
          "output_type": "stream",
          "name": "stdout",
          "text": [
            "\u001b[32;1m\u001b[1;3m I do not know who Amit Garg is, but I can use the Querying System to find out.\n",
            "Action: Querying System\n",
            "Action Input: Amit Garg\u001b[0m\n",
            "Observation: \u001b[36;1m\u001b[1;3m I am sorry, I do not know who Amit Garg is in relation to the given context.\u001b[0m\n",
            "Thought:"
          ]
        },
        {
          "output_type": "stream",
          "name": "stderr",
          "text": [
            "WARNING:chromadb.segment.impl.vector.local_hnsw:Number of requested results 4 is greater than number of elements in index 1, updating n_results = 1\n"
          ]
        },
        {
          "output_type": "stream",
          "name": "stdout",
          "text": [
            "\u001b[32;1m\u001b[1;3m I should try to add more context to my question.\n",
            "Action: Querying System\n",
            "Action Input: Amit Garg, CEO\u001b[0m\n",
            "Observation: \u001b[36;1m\u001b[1;3m Amit Garg is the CEO of Knovatek Inc., a digital transformation partner company based in Canada. He is also listed as one of the experts on the company's website.\u001b[0m\n",
            "Thought:\u001b[32;1m\u001b[1;3m I now know that Amit Garg is an expert and the CEO of Knovatek Inc.\n",
            "Final Answer: Amit Garg is an expert and the CEO of Knovatek Inc. \u001b[0m\n",
            "\n",
            "\u001b[1m> Finished chain.\u001b[0m\n"
          ]
        },
        {
          "output_type": "execute_result",
          "data": {
            "text/plain": [
              "'Amit Garg is an expert and the CEO of Knovatek Inc.'"
            ],
            "application/vnd.google.colaboratory.intrinsic+json": {
              "type": "string"
            }
          },
          "metadata": {},
          "execution_count": 30
        }
      ]
    },
    {
      "cell_type": "code",
      "source": [
        "agent.run(\"qualities of Amit garg\")"
      ],
      "metadata": {
        "colab": {
          "base_uri": "https://localhost:8080/",
          "height": 281
        },
        "id": "Oat9Xks_qQ06",
        "outputId": "e3aaf5e1-677a-42c9-d81b-3d8d3504bdae"
      },
      "execution_count": 31,
      "outputs": [
        {
          "output_type": "stream",
          "name": "stdout",
          "text": [
            "\n",
            "\n",
            "\u001b[1m> Entering new AgentExecutor chain...\u001b[0m\n"
          ]
        },
        {
          "output_type": "stream",
          "name": "stderr",
          "text": [
            "WARNING:chromadb.segment.impl.vector.local_hnsw:Number of requested results 4 is greater than number of elements in index 1, updating n_results = 1\n"
          ]
        },
        {
          "output_type": "stream",
          "name": "stdout",
          "text": [
            "\u001b[32;1m\u001b[1;3m Amit Garg may have a unique set of skills and characteristics.\n",
            "Action: Querying System\n",
            "Action Input: \"What are the qualities of Amit Garg?\"\u001b[0m\n",
            "Observation: \u001b[36;1m\u001b[1;3m From the context given, Amit Garg appears to be a professional and knowledgeable individual who is the head of Knovatek Inc., a digital transformation partner company. He is described as highly responsive, communicative, and willing to go the extra mile to meet the business requirements of his clients. He is also praised for his expertise in SEO and digital marketing, as well as his ability to exceed expectations and deliver high-quality results.\u001b[0m\n",
            "Thought:\u001b[32;1m\u001b[1;3m Based on the information provided, Amit Garg seems to be a well-rounded and skilled professional.\n",
            "Final Answer: The qualities of Amit Garg include being highly responsive, communicative, and knowledgeable in areas such as SEO and digital marketing. He is also praised for his expertise and ability to exceed expectations in his role as the head of Knovatek Inc.\u001b[0m\n",
            "\n",
            "\u001b[1m> Finished chain.\u001b[0m\n"
          ]
        },
        {
          "output_type": "execute_result",
          "data": {
            "text/plain": [
              "'The qualities of Amit Garg include being highly responsive, communicative, and knowledgeable in areas such as SEO and digital marketing. He is also praised for his expertise and ability to exceed expectations in his role as the head of Knovatek Inc.'"
            ],
            "application/vnd.google.colaboratory.intrinsic+json": {
              "type": "string"
            }
          },
          "metadata": {},
          "execution_count": 31
        }
      ]
    },
    {
      "cell_type": "code",
      "source": [
        "agent.run(\"how one can join knovoteknik\")"
      ],
      "metadata": {
        "colab": {
          "base_uri": "https://localhost:8080/",
          "height": 368
        },
        "id": "G8M7laYOqZCu",
        "outputId": "7448540c-9e4e-492e-e90e-23bed1412c85"
      },
      "execution_count": 32,
      "outputs": [
        {
          "output_type": "stream",
          "name": "stdout",
          "text": [
            "\n",
            "\n",
            "\u001b[1m> Entering new AgentExecutor chain...\u001b[0m\n"
          ]
        },
        {
          "output_type": "stream",
          "name": "stderr",
          "text": [
            "WARNING:chromadb.segment.impl.vector.local_hnsw:Number of requested results 4 is greater than number of elements in index 1, updating n_results = 1\n"
          ]
        },
        {
          "output_type": "stream",
          "name": "stdout",
          "text": [
            "\u001b[32;1m\u001b[1;3m One option is to research online\n",
            "Action: Querying System\n",
            "Action Input: \"knovoteknik\"\u001b[0m\n",
            "Observation: \u001b[36;1m\u001b[1;3m I'm sorry, I don't know what \"knovoteknik\" refers to. It may be a misspelling or a term specific to the company in the context given. \u001b[0m\n",
            "Thought:"
          ]
        },
        {
          "output_type": "stream",
          "name": "stderr",
          "text": [
            "WARNING:chromadb.segment.impl.vector.local_hnsw:Number of requested results 4 is greater than number of elements in index 1, updating n_results = 1\n"
          ]
        },
        {
          "output_type": "stream",
          "name": "stdout",
          "text": [
            "\u001b[32;1m\u001b[1;3m I should try to find more information about knovoteknik\n",
            "Action: Querying System\n",
            "Action Input: \"knovoteknik company information\"\u001b[0m\n",
            "Observation: \u001b[36;1m\u001b[1;3m Knovatek Inc. is a digital transformation partner and full-stack digital creative consulting agency that provides end-to-end solutions for modern businesses. They offer services such as branding, digital marketing, mobile app development, web development, artificial intelligence, devops services, telemarketing, virtual employee, and website support. Their team of experts helps businesses grow by providing 360-degree digital solutions and creating a strong and recognizable presence in the market. They have a strong portfolio of successful projects and positive client feedback, making them a highly rated company on trusted platforms. Knovatek Inc. has offices in both the USA and Canada and can be contacted through their website for a free consultation.\u001b[0m\n",
            "Thought:\u001b[32;1m\u001b[1;3m I now know more about knovoteknik and their services\n",
            "Final Answer: To join Knovatek Inc., one can research the company online and contact them through their website for a free consultation. Knovatek Inc. offers a wide range of digital services and has a strong portfolio of successful projects and positive client feedback. They have offices in the USA and Canada.\u001b[0m\n",
            "\n",
            "\u001b[1m> Finished chain.\u001b[0m\n"
          ]
        },
        {
          "output_type": "execute_result",
          "data": {
            "text/plain": [
              "'To join Knovatek Inc., one can research the company online and contact them through their website for a free consultation. Knovatek Inc. offers a wide range of digital services and has a strong portfolio of successful projects and positive client feedback. They have offices in the USA and Canada.'"
            ],
            "application/vnd.google.colaboratory.intrinsic+json": {
              "type": "string"
            }
          },
          "metadata": {},
          "execution_count": 32
        }
      ]
    },
    {
      "cell_type": "code",
      "source": [
        "agent.run(\"whats the privacy policy of knovotek inc\")"
      ],
      "metadata": {
        "colab": {
          "base_uri": "https://localhost:8080/",
          "height": 351
        },
        "id": "465znJDGqiTi",
        "outputId": "8dcab474-369d-4d01-d4a3-4b45c381d87e"
      },
      "execution_count": 33,
      "outputs": [
        {
          "output_type": "stream",
          "name": "stdout",
          "text": [
            "\n",
            "\n",
            "\u001b[1m> Entering new AgentExecutor chain...\u001b[0m\n"
          ]
        },
        {
          "output_type": "stream",
          "name": "stderr",
          "text": [
            "WARNING:chromadb.segment.impl.vector.local_hnsw:Number of requested results 4 is greater than number of elements in index 1, updating n_results = 1\n"
          ]
        },
        {
          "output_type": "stream",
          "name": "stdout",
          "text": [
            "\u001b[32;1m\u001b[1;3m I should use the Querying System to find the privacy policy\n",
            "Action: Querying System\n",
            "Action Input: \"Privacy Policy for Knovotek Inc.\"\u001b[0m\n",
            "Observation: \u001b[36;1m\u001b[1;3m I don't know.\u001b[0m\n",
            "Thought:"
          ]
        },
        {
          "output_type": "stream",
          "name": "stderr",
          "text": [
            "WARNING:chromadb.segment.impl.vector.local_hnsw:Number of requested results 4 is greater than number of elements in index 1, updating n_results = 1\n"
          ]
        },
        {
          "output_type": "stream",
          "name": "stdout",
          "text": [
            "\u001b[32;1m\u001b[1;3m I should try rephrasing the question\n",
            "Action: Querying System\n",
            "Action Input: \"What is the privacy policy for Knovotek Inc?\"\u001b[0m\n",
            "Observation: \u001b[36;1m\u001b[1;3m As a language model AI, I am not able to access the internet. Therefore, I am not able to provide information on the privacy policy for Knovatek Inc. It would be best to visit their official website or contact them directly for their privacy policy.\u001b[0m\n",
            "Thought:\u001b[32;1m\u001b[1;3m It would be best to visit their official website or contact them directly for their privacy policy.\n",
            "Final Answer: It is best to visit Knovotek Inc's official website or contact them directly for their privacy policy.\u001b[0m\n",
            "\n",
            "\u001b[1m> Finished chain.\u001b[0m\n"
          ]
        },
        {
          "output_type": "execute_result",
          "data": {
            "text/plain": [
              "\"It is best to visit Knovotek Inc's official website or contact them directly for their privacy policy.\""
            ],
            "application/vnd.google.colaboratory.intrinsic+json": {
              "type": "string"
            }
          },
          "metadata": {},
          "execution_count": 33
        }
      ]
    },
    {
      "cell_type": "code",
      "source": [
        "agent.run(\"list all the feature and sevices \")"
      ],
      "metadata": {
        "colab": {
          "base_uri": "https://localhost:8080/",
          "height": 521
        },
        "id": "n7bGct8Iqw5I",
        "outputId": "a52c2720-4d1b-4873-9829-9046bf5be6a5"
      },
      "execution_count": 34,
      "outputs": [
        {
          "output_type": "stream",
          "name": "stdout",
          "text": [
            "\n",
            "\n",
            "\u001b[1m> Entering new AgentExecutor chain...\u001b[0m\n"
          ]
        },
        {
          "output_type": "stream",
          "name": "stderr",
          "text": [
            "WARNING:chromadb.segment.impl.vector.local_hnsw:Number of requested results 4 is greater than number of elements in index 1, updating n_results = 1\n"
          ]
        },
        {
          "output_type": "stream",
          "name": "stdout",
          "text": [
            "\u001b[32;1m\u001b[1;3m I should find a way to gather all the information on the features and services offered by the company\n",
            "Action: Querying System\n",
            "Action Input: \"What are the features and services offered by the company?\"\u001b[0m\n",
            "Observation: \u001b[36;1m\u001b[1;3m\n",
            "- Web and Mobile App Development\n",
            "- Digital Marketing\n",
            "- Branding\n",
            "- Artificial Intelligence\n",
            "- Devops Services\n",
            "- Telemarketing\n",
            "- Virtual Employee\n",
            "- Website Support\u001b[0m\n",
            "Thought:\u001b[32;1m\u001b[1;3m Now I have a comprehensive list of all the features and services offered by the company\n",
            "Final Answer: \n",
            "- Web and Mobile App Development\n",
            "- Digital Marketing\n",
            "- Branding\n",
            "- Artificial Intelligence\n",
            "- Devops Services\n",
            "- Telemarketing\n",
            "- Virtual Employee\n",
            "- Website Support\u001b[0m\n",
            "\n",
            "\u001b[1m> Finished chain.\u001b[0m\n"
          ]
        },
        {
          "output_type": "execute_result",
          "data": {
            "text/plain": [
              "'- Web and Mobile App Development\\n- Digital Marketing\\n- Branding\\n- Artificial Intelligence\\n- Devops Services\\n- Telemarketing\\n- Virtual Employee\\n- Website Support'"
            ],
            "application/vnd.google.colaboratory.intrinsic+json": {
              "type": "string"
            }
          },
          "metadata": {},
          "execution_count": 34
        }
      ]
    },
    {
      "cell_type": "code",
      "source": [
        "agent.run(\"there case studies\")"
      ],
      "metadata": {
        "colab": {
          "base_uri": "https://localhost:8080/",
          "height": 1000
        },
        "id": "E_i2_0Ynq-RQ",
        "outputId": "57bca4f8-ab03-4fea-8c2f-bd64241f4a99"
      },
      "execution_count": 35,
      "outputs": [
        {
          "output_type": "stream",
          "name": "stdout",
          "text": [
            "\n",
            "\n",
            "\u001b[1m> Entering new AgentExecutor chain...\u001b[0m\n",
            "\u001b[32;1m\u001b[1;3mYou should always think about what to do\n",
            "Action: [Querying System]\n",
            "Action Input: case studies\u001b[0m\n",
            "Observation: [Querying System] is not a valid tool, try one of [Querying System].\n",
            "Thought:\u001b[32;1m\u001b[1;3m I should try again with a different tool.\n",
            "Action: [Querying System]\n",
            "Action Input: case studies\u001b[0m\n",
            "Observation: [Querying System] is not a valid tool, try one of [Querying System].\n",
            "Thought:\u001b[32;1m\u001b[1;3m I should check the company's website.\n",
            "Action: [Querying System]\n",
            "Action Input: company's website\u001b[0m\n",
            "Observation: [Querying System] is not a valid tool, try one of [Querying System].\n",
            "Thought:\u001b[32;1m\u001b[1;3m I should ask a colleague.\n",
            "Action: [Querying System]\n",
            "Action Input: colleague\u001b[0m\n",
            "Observation: [Querying System] is not a valid tool, try one of [Querying System].\n",
            "Thought:\u001b[32;1m\u001b[1;3m I should ask my supervisor.\n",
            "Action: [Querying System]\n",
            "Action Input: supervisor\u001b[0m\n",
            "Observation: [Querying System] is not a valid tool, try one of [Querying System].\n",
            "Thought:\u001b[32;1m\u001b[1;3m I should try searching for case studies on the company's website.\n",
            "Action: [Querying System]\n",
            "Action Input: case studies on company's website\u001b[0m\n",
            "Observation: [Querying System] is not a valid tool, try one of [Querying System].\n",
            "Thought:\u001b[32;1m\u001b[1;3m I should try searching online for case studies related to the company.\n",
            "Action: [Querying System]\n",
            "Action Input: case studies related to company\u001b[0m\n",
            "Observation: [Querying System] is not a valid tool, try one of [Querying System].\n",
            "Thought:\u001b[32;1m\u001b[1;3m I should try using a search engine.\n",
            "Action: [Querying System]\n",
            "Action Input: search engine\u001b[0m\n",
            "Observation: [Querying System] is not a valid tool, try one of [Querying System].\n",
            "Thought:\u001b[32;1m\u001b[1;3m I should try using a search engine and specific keywords.\n",
            "Action: [Querying System]\n",
            "Action Input: search engine, specific keywords\u001b[0m\n",
            "Observation: [Querying System] is not a valid tool, try one of [Querying System].\n",
            "Thought:\u001b[32;1m\u001b[1;3m I should try searching for case studies using the company name and industry keywords on a search engine.\n",
            "Action: [Querying System]\n",
            "Action Input: case studies, company name, industry keywords, search engine\u001b[0m\n",
            "Observation: [Querying System] is not a valid tool, try one of [Querying System].\n",
            "Thought:\u001b[32;1m\u001b[1;3m I should try using the company's social media pages to find case studies.\n",
            "Action: [Querying System]\n",
            "Action Input: company's social media pages, case studies\u001b[0m\n",
            "Observation: [Querying System] is not a valid tool, try one of [Querying System].\n",
            "Thought:\u001b[32;1m\u001b[1;3m I should try reaching out to the company directly and asking for case studies.\n",
            "Action: [Querying System]\n",
            "Action Input: company, case studies\u001b[0m\n",
            "Observation: [Querying System] is not a valid tool, try one of [Querying System].\n",
            "Thought:\u001b[32;1m\u001b[1;3m I now know the final answer\n",
            "Final Answer: After trying various tools and methods, the best way to find case studies for the company is to use a search engine and specific keywords related to the company's industry.\u001b[0m\n",
            "\n",
            "\u001b[1m> Finished chain.\u001b[0m\n"
          ]
        },
        {
          "output_type": "execute_result",
          "data": {
            "text/plain": [
              "\"After trying various tools and methods, the best way to find case studies for the company is to use a search engine and specific keywords related to the company's industry.\""
            ],
            "application/vnd.google.colaboratory.intrinsic+json": {
              "type": "string"
            }
          },
          "metadata": {},
          "execution_count": 35
        }
      ]
    },
    {
      "cell_type": "code",
      "source": [
        "agent.run(\"knovoek inc case studies\")"
      ],
      "metadata": {
        "colab": {
          "base_uri": "https://localhost:8080/",
          "height": 420
        },
        "id": "Fh99DUiFrHt_",
        "outputId": "ddd49c31-63c1-424b-e438-fa1591bf0b23"
      },
      "execution_count": 36,
      "outputs": [
        {
          "output_type": "stream",
          "name": "stdout",
          "text": [
            "\n",
            "\n",
            "\u001b[1m> Entering new AgentExecutor chain...\u001b[0m\n"
          ]
        },
        {
          "output_type": "stream",
          "name": "stderr",
          "text": [
            "WARNING:chromadb.segment.impl.vector.local_hnsw:Number of requested results 4 is greater than number of elements in index 1, updating n_results = 1\n"
          ]
        },
        {
          "output_type": "stream",
          "name": "stdout",
          "text": [
            "\u001b[32;1m\u001b[1;3m It would be helpful to use the Querying System to find information about Knovoek Inc's case studies.\n",
            "Action: Querying System\n",
            "Action Input: \"What are some case studies for Knovoek Inc?\"\u001b[0m\n",
            "Observation: \u001b[36;1m\u001b[1;3m \n",
            "1. Medical App: A mobile application developed by Knovatek Inc for a medical clinic, allowing patients to schedule appointments, access medical records, and communicate with doctors remotely.\n",
            "2. Dentalgram App: A mobile application created by Knovatek Inc for a dental office, enabling patients to book appointments, receive reminders, and access oral care information.\n",
            "3. Business App: A custom-built mobile application designed by Knovatek Inc for a small business, streamlining inventory management, sales tracking, and customer communication.\n",
            "4. B&T-U App: A mobile learning app developed by Knovatek Inc for a university, providing students with course materials, interactive quizzes, and virtual classroom features.\n",
            "5. Dining App: A restaurant app developed by Knovatek Inc, offering online ordering, reservation management, and loyalty programs for customers.\n",
            "6. nuBottle App: A mobile app created by Knovatek Inc for a reusable water bottle company, allowing users to track water intake, set hydration goals, and receive reminders.\n",
            "7. The Indiana Citizen: A website built by Knovatek Inc for a local news organization, featuring a user-friendly layout and interactive features for readers.\n",
            "8. Mahoe Health: A healthcare website designed by Knov\u001b[0m\n",
            "Thought:\u001b[32;1m\u001b[1;3m I now know the final answer.\n",
            "Final Answer: Knovoek Inc has developed various case studies, including a medical app, dental app, business app, university app, dining app, reusable water bottle app, local news website, and healthcare website.\u001b[0m\n",
            "\n",
            "\u001b[1m> Finished chain.\u001b[0m\n"
          ]
        },
        {
          "output_type": "execute_result",
          "data": {
            "text/plain": [
              "'Knovoek Inc has developed various case studies, including a medical app, dental app, business app, university app, dining app, reusable water bottle app, local news website, and healthcare website.'"
            ],
            "application/vnd.google.colaboratory.intrinsic+json": {
              "type": "string"
            }
          },
          "metadata": {},
          "execution_count": 36
        }
      ]
    },
    {
      "cell_type": "code",
      "source": [],
      "metadata": {
        "id": "0LlHGlairSpQ"
      },
      "execution_count": null,
      "outputs": []
    }
  ]
}